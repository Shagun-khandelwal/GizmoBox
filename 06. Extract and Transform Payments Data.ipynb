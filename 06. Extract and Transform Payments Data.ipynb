{
 "cells": [
  {
   "cell_type": "markdown",
   "metadata": {
    "application/vnd.databricks.v1+cell": {
     "cellMetadata": {},
     "inputWidgets": {},
     "nuid": "bac49c0d-9bce-422f-bfda-ed854549bf72",
     "showTitle": false,
     "tableResultSettingsMap": {},
     "title": ""
    }
   },
   "source": [
    "## Bronze\n",
    "\n",
    "using External table to access data in ADLS"
   ]
  },
  {
   "cell_type": "code",
   "execution_count": 0,
   "metadata": {
    "application/vnd.databricks.v1+cell": {
     "cellMetadata": {
      "byteLimit": 2048000,
      "rowLimit": 10000
     },
     "inputWidgets": {},
     "nuid": "db55bf91-97ed-4236-acb7-00aceed1a1d4",
     "showTitle": false,
     "tableResultSettingsMap": {},
     "title": ""
    }
   },
   "outputs": [],
   "source": [
    "create table if not exists gizmobox.bronze.payments\n",
    "(\n",
    "  payment_id integer,\n",
    "  order_id integer,\n",
    "  payment_timestamp timestamp,\n",
    "  payment_status integer,\n",
    "  payment_method string\n",
    ") \n",
    "using CSV\n",
    "options (\n",
    "  delimeter =  ','\n",
    ")\n",
    "location 'abfss://gizmobox@shagunstorage1.dfs.core.windows.net/landing/external_data/payments'"
   ]
  },
  {
   "cell_type": "code",
   "execution_count": 0,
   "metadata": {
    "application/vnd.databricks.v1+cell": {
     "cellMetadata": {
      "byteLimit": 2048000,
      "rowLimit": 10000
     },
     "inputWidgets": {},
     "nuid": "c697c180-9278-4601-8522-0eacba87a80b",
     "showTitle": false,
     "tableResultSettingsMap": {},
     "title": ""
    }
   },
   "outputs": [],
   "source": [
    "select * from gizmobox.bronze.payments order by payment_id;"
   ]
  },
  {
   "cell_type": "markdown",
   "metadata": {
    "application/vnd.databricks.v1+cell": {
     "cellMetadata": {},
     "inputWidgets": {},
     "nuid": "bf8bce7b-40a1-482a-926d-addf442cd772",
     "showTitle": false,
     "tableResultSettingsMap": {},
     "title": ""
    }
   },
   "source": [
    "Refresh table everytime you starts working in it."
   ]
  },
  {
   "cell_type": "code",
   "execution_count": 0,
   "metadata": {
    "application/vnd.databricks.v1+cell": {
     "cellMetadata": {
      "byteLimit": 2048000,
      "rowLimit": 10000
     },
     "inputWidgets": {},
     "nuid": "b0e7c11a-c7be-43d3-be12-cf231e4dc363",
     "showTitle": false,
     "tableResultSettingsMap": {},
     "title": ""
    }
   },
   "outputs": [],
   "source": [
    "Refresh table gizmobox.bronze.payments;"
   ]
  },
  {
   "cell_type": "markdown",
   "metadata": {
    "application/vnd.databricks.v1+cell": {
     "cellMetadata": {},
     "inputWidgets": {},
     "nuid": "90fa04ff-1cf8-4f60-98df-02929ba84bbd",
     "showTitle": false,
     "tableResultSettingsMap": {},
     "title": ""
    }
   },
   "source": [
    "## Silver\n",
    "Transformations\n",
    "- make new column payment_date,payment_time from payemnt_timestamp\n",
    "- change the values in payment_status with the descriptive values \n",
    "  1 - Success\n",
    "  2 - Pending\n",
    "  3 - Cancelled\n",
    "  4 - Failed"
   ]
  },
  {
   "cell_type": "code",
   "execution_count": 0,
   "metadata": {
    "application/vnd.databricks.v1+cell": {
     "cellMetadata": {
      "byteLimit": 2048000,
      "rowLimit": 10000
     },
     "inputWidgets": {},
     "nuid": "36e55826-5bbf-4d17-bdf2-1c2210adcd8e",
     "showTitle": false,
     "tableResultSettingsMap": {},
     "title": ""
    }
   },
   "outputs": [],
   "source": [
    "select  \n",
    "  payment_id,\n",
    "  order_id,\n",
    "  cast(payment_timestamp as date) as payment_date,\n",
    "  date_format(payment_timestamp,'HH:mm:ss') as payment_time,\n",
    "  case payment_status\n",
    "  when 1 then 'Success'\n",
    "  when 2 then 'Pending'\n",
    "  when 3 then 'Cancelled'\n",
    "  when 4 then 'Failed'\n",
    "  end as payment_status,\n",
    "  payment_method\n",
    "from gizmobox.bronze.payments order by payment_id;"
   ]
  },
  {
   "cell_type": "code",
   "execution_count": 0,
   "metadata": {
    "application/vnd.databricks.v1+cell": {
     "cellMetadata": {
      "byteLimit": 2048000,
      "rowLimit": 10000
     },
     "inputWidgets": {},
     "nuid": "2d202aec-fa55-42e2-9311-840cd748a308",
     "showTitle": false,
     "tableResultSettingsMap": {},
     "title": ""
    }
   },
   "outputs": [],
   "source": [
    "create table if not exists gizmobox.silver.payments\n",
    "as\n",
    "select  \n",
    "  payment_id,\n",
    "  order_id,\n",
    "  cast(payment_timestamp as date) as payment_date,\n",
    "  date_format(payment_timestamp,'HH:mm:ss') as payment_time,\n",
    "  case payment_status\n",
    "  when 1 then 'Success'\n",
    "  when 2 then 'Pending'\n",
    "  when 3 then 'Cancelled'\n",
    "  when 4 then 'Failed'\n",
    "  end as payment_status,\n",
    "  payment_method\n",
    "from gizmobox.bronze.payments order by payment_id;"
   ]
  },
  {
   "cell_type": "code",
   "execution_count": 0,
   "metadata": {
    "application/vnd.databricks.v1+cell": {
     "cellMetadata": {
      "byteLimit": 2048000,
      "rowLimit": 10000
     },
     "inputWidgets": {},
     "nuid": "69d13495-7ba7-4a55-8cb3-45bd2ff1d4ad",
     "showTitle": false,
     "tableResultSettingsMap": {},
     "title": ""
    }
   },
   "outputs": [],
   "source": [
    "select * from gizmobox.silver.payments;"
   ]
  },
  {
   "cell_type": "code",
   "execution_count": 0,
   "metadata": {
    "application/vnd.databricks.v1+cell": {
     "cellMetadata": {
      "byteLimit": 2048000,
      "rowLimit": 10000
     },
     "inputWidgets": {},
     "nuid": "c2d500b5-bf40-41c4-b40a-1a0dd6558e98",
     "showTitle": false,
     "tableResultSettingsMap": {},
     "title": ""
    }
   },
   "outputs": [],
   "source": [
    "describe extended gizmobox.silver.payments;"
   ]
  }
 ],
 "metadata": {
  "application/vnd.databricks.v1+notebook": {
   "computePreferences": null,
   "dashboards": [],
   "environmentMetadata": {
    "base_environment": "",
    "environment_version": "3"
   },
   "inputWidgetPreferences": null,
   "language": "sql",
   "notebookMetadata": {
    "pythonIndentUnit": 4
   },
   "notebookName": "06. Extract and Transform Payments Data",
   "widgets": {}
  },
  "language_info": {
   "name": "sql"
  }
 },
 "nbformat": 4,
 "nbformat_minor": 0
}

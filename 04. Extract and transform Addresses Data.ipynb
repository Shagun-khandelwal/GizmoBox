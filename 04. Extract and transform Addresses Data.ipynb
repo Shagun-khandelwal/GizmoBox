{
 "cells": [
  {
   "cell_type": "code",
   "execution_count": 0,
   "metadata": {
    "application/vnd.databricks.v1+cell": {
     "cellMetadata": {
      "byteLimit": 2048000,
      "rowLimit": 10000
     },
     "inputWidgets": {},
     "nuid": "422e2912-2fff-445c-a0c5-ed58211f241b",
     "showTitle": false,
     "tableResultSettingsMap": {},
     "title": ""
    }
   },
   "outputs": [],
   "source": [
    "select * from csv.`/Volumes/gizmobox/landing/operational_data/addresses/`"
   ]
  },
  {
   "cell_type": "code",
   "execution_count": 0,
   "metadata": {
    "application/vnd.databricks.v1+cell": {
     "cellMetadata": {
      "byteLimit": 2048000,
      "rowLimit": 10000
     },
     "inputWidgets": {},
     "nuid": "43739179-e9d3-4f12-96e8-38bb92f2d200",
     "showTitle": false,
     "tableResultSettingsMap": {},
     "title": ""
    }
   },
   "outputs": [],
   "source": [
    "select * from read_files(\n",
    "  '/Volumes/gizmobox/landing/operational_data/addresses',\n",
    "  delimiter =>'\\t',\n",
    "  header => True,\n",
    "  inferschema => True,\n",
    "  format => 'csv'\n",
    "  ) \n",
    "  order by customer_id ;"
   ]
  },
  {
   "cell_type": "code",
   "execution_count": 0,
   "metadata": {
    "application/vnd.databricks.v1+cell": {
     "cellMetadata": {
      "byteLimit": 2048000,
      "rowLimit": 10000
     },
     "inputWidgets": {},
     "nuid": "c43479c1-7e6c-4b9d-93da-8c1c60cb7efe",
     "showTitle": false,
     "tableResultSettingsMap": {},
     "title": ""
    }
   },
   "outputs": [],
   "source": [
    "create or replace view gizmobox.bronze.v_addresses \n",
    "as\n",
    "select * from read_files(\n",
    "  '/Volumes/gizmobox/landing/operational_data/addresses',\n",
    "  delimiter =>'\\t',\n",
    "  header => True,\n",
    "  inferschema => True,\n",
    "  format => 'csv'\n",
    "  ) \n",
    "  order by customer_id ;"
   ]
  },
  {
   "cell_type": "markdown",
   "metadata": {
    "application/vnd.databricks.v1+cell": {
     "cellMetadata": {},
     "inputWidgets": {},
     "nuid": "610a3f94-d80b-44dc-a6e2-7ea0ed2baa11",
     "showTitle": false,
     "tableResultSettingsMap": {},
     "title": ""
    }
   },
   "source": [
    "## Silver schema"
   ]
  },
  {
   "cell_type": "code",
   "execution_count": 0,
   "metadata": {
    "application/vnd.databricks.v1+cell": {
     "cellMetadata": {
      "byteLimit": 2048000,
      "rowLimit": 10000
     },
     "inputWidgets": {},
     "nuid": "105f7eca-3388-4358-87f8-eec2ac35ae0b",
     "showTitle": false,
     "tableResultSettingsMap": {},
     "title": ""
    }
   },
   "outputs": [],
   "source": [
    "select * from\n",
    "(select \n",
    "  customer_id, \n",
    "  address_type, \n",
    "  address_line_1, \n",
    "  city, \n",
    "  state, \n",
    "  postcode \n",
    "from gizmobox.bronze.v_addresses)\n",
    "pivot\n",
    "(\n",
    "  max(address_line_1) as address_line_1,\n",
    "  max(city) as city,\n",
    "  max(state) as state,\n",
    "  max(postcode) as postcode\n",
    "  for address_type in ('shipping','billing')\n",
    ")"
   ]
  },
  {
   "cell_type": "code",
   "execution_count": 0,
   "metadata": {
    "application/vnd.databricks.v1+cell": {
     "cellMetadata": {
      "byteLimit": 2048000,
      "rowLimit": 10000
     },
     "inputWidgets": {},
     "nuid": "626e1f7c-b983-448e-9ce2-50367bddfafa",
     "showTitle": false,
     "tableResultSettingsMap": {},
     "title": ""
    }
   },
   "outputs": [],
   "source": [
    "create table if not exists gizmobox.silver.addresses\n",
    "as\n",
    "select * from\n",
    "(select \n",
    "  customer_id, \n",
    "  address_type, \n",
    "  address_line_1, \n",
    "  city, \n",
    "  state, \n",
    "  postcode \n",
    "from gizmobox.bronze.v_addresses)\n",
    "pivot\n",
    "(\n",
    "  max(address_line_1) as address_line_1,\n",
    "  max(city) as city,\n",
    "  max(state) as state,\n",
    "  max(postcode) as postcode\n",
    "  for address_type in ('shipping','billing')\n",
    ")"
   ]
  }
 ],
 "metadata": {
  "application/vnd.databricks.v1+notebook": {
   "computePreferences": {
    "hardware": {
     "accelerator": null,
     "gpuPoolId": null,
     "memory": null
    }
   },
   "dashboards": [],
   "environmentMetadata": {
    "base_environment": "",
    "environment_version": "3"
   },
   "inputWidgetPreferences": null,
   "language": "sql",
   "notebookMetadata": {
    "pythonIndentUnit": 4
   },
   "notebookName": "04. Extract and transform Addresses Data",
   "widgets": {}
  },
  "language_info": {
   "name": "sql"
  }
 },
 "nbformat": 4,
 "nbformat_minor": 0
}

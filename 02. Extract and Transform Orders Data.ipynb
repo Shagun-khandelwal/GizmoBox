{
 "cells": [
  {
   "cell_type": "markdown",
   "metadata": {
    "application/vnd.databricks.v1+cell": {
     "cellMetadata": {},
     "inputWidgets": {},
     "nuid": "74c5c930-c444-4c58-9042-638c38774b67",
     "showTitle": false,
     "tableResultSettingsMap": {},
     "title": ""
    }
   },
   "source": [
    "## Orders data - Complex JSON ( have bugs )\n"
   ]
  },
  {
   "cell_type": "markdown",
   "metadata": {
    "application/vnd.databricks.v1+cell": {
     "cellMetadata": {},
     "inputWidgets": {},
     "nuid": "1ba9c011-5753-4caf-ac1e-14a9b43607e0",
     "showTitle": false,
     "tableResultSettingsMap": {},
     "title": ""
    }
   },
   "source": [
    "## Handling bronze schema"
   ]
  },
  {
   "cell_type": "code",
   "execution_count": 0,
   "metadata": {
    "application/vnd.databricks.v1+cell": {
     "cellMetadata": {
      "byteLimit": 2048000,
      "rowLimit": 10000
     },
     "inputWidgets": {},
     "nuid": "4fc07f5b-d702-4089-a0c4-4f0a5f8742cf",
     "showTitle": false,
     "tableResultSettingsMap": {},
     "title": ""
    }
   },
   "outputs": [],
   "source": [
    "-- There are corrupted records in this json file so for bronze schema we store is at text view.\n",
    "select * from JSON.`/Volumes/gizmobox/landing/operational_data/orders/`"
   ]
  },
  {
   "cell_type": "code",
   "execution_count": 0,
   "metadata": {
    "application/vnd.databricks.v1+cell": {
     "cellMetadata": {
      "byteLimit": 2048000,
      "rowLimit": 10000
     },
     "inputWidgets": {},
     "nuid": "eb690d46-99d1-4afb-8ad4-9ccbaf3b0676",
     "showTitle": false,
     "tableResultSettingsMap": {},
     "title": ""
    }
   },
   "outputs": [],
   "source": [
    "select * from text.`/Volumes/gizmobox/landing/operational_data/orders/`"
   ]
  },
  {
   "cell_type": "code",
   "execution_count": 0,
   "metadata": {
    "application/vnd.databricks.v1+cell": {
     "cellMetadata": {
      "byteLimit": 2048000,
      "rowLimit": 10000
     },
     "inputWidgets": {},
     "nuid": "13204f98-0130-424f-8299-c8a4b914190a",
     "showTitle": false,
     "tableResultSettingsMap": {},
     "title": ""
    }
   },
   "outputs": [],
   "source": [
    "create or replace view gizmobox.bronze.v_bronze_orders as\n",
    "select * from text.`/Volumes/gizmobox/landing/operational_data/orders/`;"
   ]
  },
  {
   "cell_type": "markdown",
   "metadata": {
    "application/vnd.databricks.v1+cell": {
     "cellMetadata": {},
     "inputWidgets": {},
     "nuid": "50ab8f4f-782e-4406-a3ee-5d5badf2c3bf",
     "showTitle": false,
     "tableResultSettingsMap": {},
     "title": ""
    }
   },
   "source": [
    "## Handling Silver schema \n",
    "Some transformations and array explode "
   ]
  },
  {
   "cell_type": "code",
   "execution_count": 0,
   "metadata": {
    "application/vnd.databricks.v1+cell": {
     "cellMetadata": {
      "byteLimit": 2048000,
      "rowLimit": 10000
     },
     "inputWidgets": {},
     "nuid": "2e3ff556-c683-4f72-9ac4-3cbe00456955",
     "showTitle": false,
     "tableResultSettingsMap": {},
     "title": ""
    }
   },
   "outputs": [],
   "source": [
    "select * from gizmobox.bronze.v_bronze_orders;"
   ]
  },
  {
   "cell_type": "code",
   "execution_count": 0,
   "metadata": {
    "application/vnd.databricks.v1+cell": {
     "cellMetadata": {
      "byteLimit": 2048000,
      "rowLimit": 10000
     },
     "inputWidgets": {},
     "nuid": "be8d7048-347f-4e3c-a6f1-11beed72d6f8",
     "showTitle": false,
     "tableResultSettingsMap": {},
     "title": ""
    }
   },
   "outputs": [],
   "source": [
    "select value:order_id , value from gizmobox.bronze.v_bronze_orders;"
   ]
  },
  {
   "cell_type": "code",
   "execution_count": 0,
   "metadata": {
    "application/vnd.databricks.v1+cell": {
     "cellMetadata": {
      "byteLimit": 2048000,
      "rowLimit": 10000
     },
     "inputWidgets": {},
     "nuid": "61bc7d74-94ef-4542-866b-7b3688b1da0f",
     "showTitle": false,
     "tableResultSettingsMap": {},
     "title": ""
    }
   },
   "outputs": [],
   "source": [
    "create or replace temporary view v_corrected_orders\n",
    "as\n",
    "select regexp_replace(value,'\"order_date\": ([0-9]{4}-[0-9]{2}-[0-9]{2})','\"order_date\":\"\\$1\"') as value from gizmobox.bronze.v_bronze_orders;"
   ]
  },
  {
   "cell_type": "markdown",
   "metadata": {
    "application/vnd.databricks.v1+cell": {
     "cellMetadata": {},
     "inputWidgets": {},
     "nuid": "2a21da07-4883-4fee-812b-ea7543a36443",
     "showTitle": false,
     "tableResultSettingsMap": {},
     "title": ""
    }
   },
   "source": [
    "To convert this string value to json .\n",
    "- first get the schema of json using schema_of_json() functions\n",
    "- through function from_json() convert string to json by giving schema into param"
   ]
  },
  {
   "cell_type": "code",
   "execution_count": 0,
   "metadata": {
    "application/vnd.databricks.v1+cell": {
     "cellMetadata": {
      "byteLimit": 2048000,
      "rowLimit": 10000
     },
     "inputWidgets": {},
     "nuid": "240a9fcb-b549-41e8-84a5-7c0084d15dd0",
     "showTitle": false,
     "tableResultSettingsMap": {},
     "title": ""
    }
   },
   "outputs": [],
   "source": [
    "select schema_of_json(value) from v_corrected_orders;"
   ]
  },
  {
   "cell_type": "code",
   "execution_count": 0,
   "metadata": {
    "application/vnd.databricks.v1+cell": {
     "cellMetadata": {
      "byteLimit": 2048000,
      "rowLimit": 10000
     },
     "inputWidgets": {},
     "nuid": "ead714de-f4fc-4ea0-ae55-60ff1ccc8a81",
     "showTitle": false,
     "tableResultSettingsMap": {},
     "title": ""
    }
   },
   "outputs": [],
   "source": [
    "select from_json(value,'STRUCT<customer_id: BIGINT, items: ARRAY<STRUCT<category: STRING, details: STRUCT<brand: STRING, color: STRING>, item_id: BIGINT, name: STRING, price: BIGINT, quantity: BIGINT>>, order_date: STRING, order_id: BIGINT, order_status: STRING, payment_method: STRING, total_amount: BIGINT, transaction_timestamp: STRING>') from v_corrected_orders;"
   ]
  },
  {
   "cell_type": "code",
   "execution_count": 0,
   "metadata": {
    "application/vnd.databricks.v1+cell": {
     "cellMetadata": {
      "byteLimit": 2048000,
      "rowLimit": 10000
     },
     "inputWidgets": {},
     "nuid": "067eb009-ca43-41ea-a97b-76e28768df56",
     "showTitle": false,
     "tableResultSettingsMap": {},
     "title": ""
    }
   },
   "outputs": [],
   "source": [
    "create or replace table orders_json\n",
    "as\n",
    "select from_json(value,'STRUCT<customer_id: BIGINT, items: ARRAY<STRUCT<category: STRING, details: STRUCT<brand: STRING, color: STRING>, item_id: BIGINT, name: STRING, price: BIGINT, quantity: BIGINT>>, order_date: STRING, order_id: BIGINT, order_status: STRING, payment_method: STRING, total_amount: BIGINT, transaction_timestamp: STRING>') as value from v_corrected_orders;"
   ]
  },
  {
   "cell_type": "code",
   "execution_count": 0,
   "metadata": {
    "application/vnd.databricks.v1+cell": {
     "cellMetadata": {
      "byteLimit": 2048000,
      "rowLimit": 10000
     },
     "inputWidgets": {},
     "nuid": "62da2b62-ee83-4ea8-af92-502c05a4c155",
     "showTitle": false,
     "tableResultSettingsMap": {},
     "title": ""
    }
   },
   "outputs": [],
   "source": [
    "select * from orders_json;"
   ]
  },
  {
   "cell_type": "code",
   "execution_count": 0,
   "metadata": {
    "application/vnd.databricks.v1+cell": {
     "cellMetadata": {
      "byteLimit": 2048000,
      "rowLimit": 10000
     },
     "inputWidgets": {},
     "nuid": "61024711-a1f3-4615-bf7d-3a242985c3d2",
     "showTitle": false,
     "tableResultSettingsMap": {},
     "title": ""
    }
   },
   "outputs": [],
   "source": [
    "create or replace temporary view tv_orders\n",
    "as\n",
    "select \n",
    "  value.customer_id as customer_id,\n",
    "  value.order_id as order_id,\n",
    "  cast(value.order_date as date) as order_date,\n",
    "  value.order_status as order_status,\n",
    "  value.payment_method as payment_method,\n",
    "  value.total_amount as total_amount,\n",
    "  cast(value.transaction_timestamp as timestamp) as transaction_timestamp,\n",
    "  array_distinct(value.items) as items --removing duplicate records in the array\n",
    "from orders_json\n",
    "order by order_id;"
   ]
  },
  {
   "cell_type": "code",
   "execution_count": 0,
   "metadata": {
    "application/vnd.databricks.v1+cell": {
     "cellMetadata": {
      "byteLimit": 2048000,
      "rowLimit": 10000
     },
     "inputWidgets": {},
     "nuid": "47e39fef-0dcc-45cb-9379-f88870b60699",
     "showTitle": false,
     "tableResultSettingsMap": {},
     "title": ""
    }
   },
   "outputs": [],
   "source": [
    "create or replace temporary view tv_exploaded_orders\n",
    "as\n",
    "select \n",
    "  customer_id,\n",
    "  order_id,\n",
    "  order_date,\n",
    "  order_status,\n",
    "  payment_method,\n",
    "  total_amount,\n",
    "  transaction_timestamp,\n",
    "  explode(items) as items\n",
    "from tv_orders;"
   ]
  },
  {
   "cell_type": "code",
   "execution_count": 0,
   "metadata": {
    "application/vnd.databricks.v1+cell": {
     "cellMetadata": {
      "byteLimit": 2048000,
      "rowLimit": 10000
     },
     "inputWidgets": {},
     "nuid": "1ba8cb08-159b-4dcf-8aa0-b18495543f65",
     "showTitle": false,
     "tableResultSettingsMap": {},
     "title": ""
    }
   },
   "outputs": [],
   "source": [
    "select\n",
    "  customer_id,\n",
    "  order_id,\n",
    "  order_date,\n",
    "  order_status,\n",
    "  payment_method,\n",
    "  total_amount,\n",
    "  transaction_timestamp,\n",
    "  items.item_id as item_id,\n",
    "  items.name as name,\n",
    "  items.price as price,\n",
    "  items.quantity as quantity,\n",
    "  items.category as category,\n",
    "  items.details.brand as brand,\n",
    "  items.details.color as color\n",
    "from tv_exploaded_orders;"
   ]
  },
  {
   "cell_type": "code",
   "execution_count": 0,
   "metadata": {
    "application/vnd.databricks.v1+cell": {
     "cellMetadata": {
      "byteLimit": 2048000,
      "rowLimit": 10000
     },
     "inputWidgets": {},
     "nuid": "d7ac631a-40bb-48cf-879e-8a7a0bb6ee3c",
     "showTitle": false,
     "tableResultSettingsMap": {},
     "title": ""
    }
   },
   "outputs": [],
   "source": [
    "create table if not exists gizmobox.silver.orders\n",
    "as\n",
    "select\n",
    "  customer_id,\n",
    "  order_id,\n",
    "  order_date,\n",
    "  order_status,\n",
    "  payment_method,\n",
    "  total_amount,\n",
    "  transaction_timestamp,\n",
    "  items.item_id as item_id,\n",
    "  items.name as name,\n",
    "  items.price as price,\n",
    "  items.quantity as quantity,\n",
    "  items.category as category,\n",
    "  items.details.brand as brand,\n",
    "  items.details.color as color\n",
    "from tv_exploaded_orders;"
   ]
  },
  {
   "cell_type": "code",
   "execution_count": 0,
   "metadata": {
    "application/vnd.databricks.v1+cell": {
     "cellMetadata": {
      "byteLimit": 2048000,
      "rowLimit": 10000
     },
     "inputWidgets": {},
     "nuid": "871e7c8c-12e9-4cb8-8fa4-0017304babae",
     "showTitle": false,
     "tableResultSettingsMap": {},
     "title": ""
    }
   },
   "outputs": [],
   "source": [
    "select * from gizmobox.silver.orders;"
   ]
  }
 ],
 "metadata": {
  "application/vnd.databricks.v1+notebook": {
   "computePreferences": {
    "hardware": {
     "accelerator": null,
     "gpuPoolId": null,
     "memory": null
    }
   },
   "dashboards": [],
   "environmentMetadata": {
    "base_environment": "",
    "environment_version": "3"
   },
   "inputWidgetPreferences": null,
   "language": "sql",
   "notebookMetadata": {
    "pythonIndentUnit": 4
   },
   "notebookName": "02. Extract and Transform Orders Data",
   "widgets": {}
  },
  "language_info": {
   "name": "sql"
  }
 },
 "nbformat": 4,
 "nbformat_minor": 0
}
